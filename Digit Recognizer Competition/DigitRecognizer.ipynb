{
  "cells": [
    {
      "cell_type": "markdown",
      "metadata": {
        "id": "euRGUpg6n4Q-"
      },
      "source": [
        "# <center><p style =\"color: smoke; font-weight: 500\">Digit Recognizer competition</p></center>\n",
        "\n",
        "<center>>>> Nguyễn Ngọc Trí Vĩ <<<"
      ]
    },
    {
      "cell_type": "markdown",
      "metadata": {
        "id": "kciaszO7n4RA"
      },
      "source": [
        "Link competitions: https://www.kaggle.com/competitions/digit-recognizer"
      ]
    },
    {
      "cell_type": "markdown",
      "metadata": {
        "id": "aymGN1j9n4RB"
      },
      "source": [
        "### Import packages"
      ]
    },
    {
      "cell_type": "code",
      "execution_count": 1,
      "metadata": {
        "id": "cSYyNhLRn4RB"
      },
      "outputs": [],
      "source": [
        "import pandas as pd\n",
        "import numpy as np\n",
        "import matplotlib.pyplot as plt\n",
        "\n",
        "from sklearn.model_selection import train_test_split\n",
        "\n",
        "from keras.utils import plot_model\n",
        "from keras.utils import to_categorical\n",
        "from keras.models import Sequential\n",
        "from keras.layers import Dense, Dropout, Flatten, Conv2D, MaxPool2D, BatchNormalization\n",
        "from keras.preprocessing.image import ImageDataGenerator\n",
        "from keras.datasets import mnist"
      ]
    },
    {
      "cell_type": "markdown",
      "metadata": {
        "id": "ULe1QDP3n4RC"
      },
      "source": [
        "### Import and preprocess data"
      ]
    },
    {
      "cell_type": "code",
      "execution_count": 2,
      "metadata": {
        "id": "-_KBaA3Un4RC"
      },
      "outputs": [],
      "source": [
        "train_df = pd.read_csv(\"data/train.csv\")\n",
        "X_test = pd.read_csv(\"data/test.csv\")\n",
        "\n",
        "Y_train = train_df[\"label\"]\n",
        "X_train = train_df.drop(labels=[\"label\"], axis=1)"
      ]
    },
    {
      "cell_type": "markdown",
      "metadata": {
        "id": "dXsECTean4RC"
      },
      "source": [
        "Import and combine Mnist data for training"
      ]
    },
    {
      "cell_type": "code",
      "execution_count": 3,
      "metadata": {
        "id": "cfdA7dePn4RC"
      },
      "outputs": [],
      "source": [
        "(x, y), (xt, yt) = mnist.load_data()\n",
        "\n",
        "train = np.concatenate([x, xt], axis=0)\n",
        "y = np.concatenate([y, yt], axis=0)\n",
        "\n",
        "X_train1 = train.reshape(-1, 28 * 28)\n",
        "\n",
        "X_train = np.concatenate([X_train, X_train1], axis = 0)\n",
        "Y_train = np.concatenate([Y_train, y], axis = 0)"
      ]
    },
    {
      "cell_type": "markdown",
      "metadata": {
        "id": "D_UyOiNVn4RD"
      },
      "source": [
        "#### Preprocessing train and test set"
      ]
    },
    {
      "cell_type": "markdown",
      "metadata": {
        "id": "s-GGvrvUn4RD"
      },
      "source": [
        "-   Normalization\n",
        "-   One-hot encoding\n",
        "-   Spliting data to train - validate - test set"
      ]
    },
    {
      "cell_type": "code",
      "execution_count": 4,
      "metadata": {
        "colab": {
          "base_uri": "https://localhost:8080/"
        },
        "id": "ro2c-yzyn4RD",
        "outputId": "03ee59c9-c392-42fd-c46b-33cd2606eb6f"
      },
      "outputs": [
        {
          "data": {
            "text/plain": [
              "((100800, 28, 28, 1), (11200, 28, 28, 1), (100800, 10), (11200, 10))"
            ]
          },
          "execution_count": 4,
          "metadata": {},
          "output_type": "execute_result"
        }
      ],
      "source": [
        "X_train = X_train/255.0\n",
        "X_test = X_test/255.0\n",
        "\n",
        "X_train = X_train.reshape(-1, 28, 28, 1)\n",
        "X_test = X_test.values.reshape(-1, 28, 28, 1)\n",
        "\n",
        "Y_train = to_categorical(Y_train, num_classes=10)\n",
        "\n",
        "X_train, X_val, Y_train, Y_val = train_test_split(X_train, Y_train, test_size=0.1, random_state=2)\n",
        "\n",
        "X_train.shape, X_val.shape, Y_train.shape, Y_val.shape\n"
      ]
    },
    {
      "cell_type": "markdown",
      "metadata": {
        "id": "MaVS7Vryn4RD"
      },
      "source": [
        "### Build, train model and predict"
      ]
    },
    {
      "cell_type": "markdown",
      "metadata": {
        "id": "gPrQnto6n4RE"
      },
      "source": [
        "#### Convolutional Neural Network (CNN)"
      ]
    },
    {
      "cell_type": "markdown",
      "metadata": {
        "id": "tAked2YJn4RE"
      },
      "source": [
        "Build"
      ]
    },
    {
      "cell_type": "code",
      "execution_count": 5,
      "metadata": {
        "id": "AmvCL6zon4RE"
      },
      "outputs": [],
      "source": [
        "model = Sequential(\n",
        "    [\n",
        "        Conv2D(filters=64, kernel_size=(5, 5), padding='Same', activation='relu', input_shape=(28, 28, 1)),\n",
        "        BatchNormalization(),\n",
        "        Conv2D(filters=64, kernel_size=(5, 5), padding='Same', activation='relu'),\n",
        "        BatchNormalization(),\n",
        "        MaxPool2D(pool_size=(2, 2)),\n",
        "        Dropout(0.25),\n",
        "\n",
        "        Conv2D(filters=64, kernel_size=(3, 3), padding='Same', activation='relu'),\n",
        "        BatchNormalization(),\n",
        "\n",
        "        Conv2D(filters=64, kernel_size=(3, 3), padding='Same', activation='relu'),\n",
        "        BatchNormalization(),\n",
        "        MaxPool2D(pool_size=(2, 2), strides=(2, 2)),\n",
        "        Dropout(0.25),\n",
        "\n",
        "        Conv2D(filters=64, kernel_size=(3, 3), padding='Same',  activation='relu'),\n",
        "        BatchNormalization(),\n",
        "        Dropout(0.25),\n",
        "\n",
        "        Flatten(),\n",
        "        Dense(256, activation='relu'),\n",
        "        BatchNormalization(),\n",
        "        Dropout(0.25),\n",
        "\n",
        "        Dense(10, activation ='softmax'),\n",
        "    ]\n",
        ")\n",
        "\n",
        "model.compile(optimizer='adam', loss='categorical_crossentropy', metrics=['accuracy'])"
      ]
    },
    {
      "cell_type": "code",
      "execution_count": 6,
      "metadata": {
        "id": "kyEj_cKBn4RE"
      },
      "outputs": [],
      "source": [
        "batch_size = 128\n",
        "\n",
        "datagen = ImageDataGenerator(\n",
        "        rotation_range=10,\n",
        "        zoom_range=0.10,\n",
        "        width_shift_range=0.1,\n",
        "        height_shift_range=0.1)\n",
        "\n",
        "train_gen = datagen.flow(X_train, Y_train, batch_size=batch_size)"
      ]
    },
    {
      "cell_type": "code",
      "execution_count": null,
      "metadata": {
        "colab": {
          "base_uri": "https://localhost:8080/"
        },
        "id": "pfh-dvjMn4RF",
        "outputId": "0d41b26d-8c7b-4e49-aeb5-cf7a9c2cce27"
      },
      "outputs": [
        {
          "name": "stdout",
          "output_type": "stream",
          "text": [
            "Epoch 1/50\n",
            "788/788 [==============================] - 50s 49ms/step - loss: 0.1718 - accuracy: 0.9466 - val_loss: 0.0319 - val_accuracy: 0.9902\n",
            "Epoch 2/50\n",
            "788/788 [==============================] - 39s 49ms/step - loss: 0.0556 - accuracy: 0.9825 - val_loss: 0.0422 - val_accuracy: 0.9862\n",
            "Epoch 3/50\n",
            "788/788 [==============================] - 47s 59ms/step - loss: 0.0424 - accuracy: 0.9869 - val_loss: 0.0201 - val_accuracy: 0.9939\n",
            "Epoch 4/50\n",
            "788/788 [==============================] - 40s 50ms/step - loss: 0.0378 - accuracy: 0.9885 - val_loss: 0.0249 - val_accuracy: 0.9938\n",
            "Epoch 5/50\n",
            "788/788 [==============================] - 40s 51ms/step - loss: 0.0332 - accuracy: 0.9894 - val_loss: 0.0245 - val_accuracy: 0.9923\n",
            "Epoch 6/50\n",
            "788/788 [==============================] - 39s 49ms/step - loss: 0.0307 - accuracy: 0.9902 - val_loss: 0.0218 - val_accuracy: 0.9931\n",
            "Epoch 7/50\n",
            "788/788 [==============================] - 38s 48ms/step - loss: 0.0304 - accuracy: 0.9906 - val_loss: 0.0140 - val_accuracy: 0.9954\n",
            "Epoch 8/50\n",
            "788/788 [==============================] - 38s 49ms/step - loss: 0.0269 - accuracy: 0.9914 - val_loss: 0.0159 - val_accuracy: 0.9946\n",
            "Epoch 9/50\n",
            "788/788 [==============================] - 38s 49ms/step - loss: 0.0253 - accuracy: 0.9919 - val_loss: 0.0158 - val_accuracy: 0.9948\n",
            "Epoch 10/50\n",
            "788/788 [==============================] - 38s 49ms/step - loss: 0.0244 - accuracy: 0.9924 - val_loss: 0.0130 - val_accuracy: 0.9956\n",
            "Epoch 11/50\n",
            "788/788 [==============================] - 38s 49ms/step - loss: 0.0227 - accuracy: 0.9929 - val_loss: 0.0132 - val_accuracy: 0.9959\n",
            "Epoch 12/50\n",
            "788/788 [==============================] - 39s 50ms/step - loss: 0.0206 - accuracy: 0.9933 - val_loss: 0.0155 - val_accuracy: 0.9954\n",
            "Epoch 13/50\n",
            "788/788 [==============================] - 39s 50ms/step - loss: 0.0197 - accuracy: 0.9935 - val_loss: 0.0100 - val_accuracy: 0.9964\n",
            "Epoch 14/50\n",
            "788/788 [==============================] - 39s 49ms/step - loss: 0.0195 - accuracy: 0.9942 - val_loss: 0.0100 - val_accuracy: 0.9968\n",
            "Epoch 15/50\n",
            "788/788 [==============================] - 39s 50ms/step - loss: 0.0187 - accuracy: 0.9939 - val_loss: 0.0111 - val_accuracy: 0.9969\n",
            "Epoch 16/50\n",
            "788/788 [==============================] - 39s 49ms/step - loss: 0.0168 - accuracy: 0.9946 - val_loss: 0.0136 - val_accuracy: 0.9956\n",
            "Epoch 17/50\n",
            "788/788 [==============================] - 39s 49ms/step - loss: 0.0168 - accuracy: 0.9947 - val_loss: 0.0112 - val_accuracy: 0.9960\n",
            "Epoch 18/50\n",
            "788/788 [==============================] - 38s 49ms/step - loss: 0.0161 - accuracy: 0.9951 - val_loss: 0.0093 - val_accuracy: 0.9971\n",
            "Epoch 19/50\n",
            "788/788 [==============================] - 39s 49ms/step - loss: 0.0148 - accuracy: 0.9953 - val_loss: 0.0109 - val_accuracy: 0.9972\n",
            "Epoch 20/50\n",
            "788/788 [==============================] - 39s 49ms/step - loss: 0.0150 - accuracy: 0.9952 - val_loss: 0.0105 - val_accuracy: 0.9971\n",
            "Epoch 21/50\n",
            "788/788 [==============================] - 39s 50ms/step - loss: 0.0147 - accuracy: 0.9955 - val_loss: 0.0083 - val_accuracy: 0.9979\n",
            "Epoch 22/50\n",
            "788/788 [==============================] - 39s 49ms/step - loss: 0.0138 - accuracy: 0.9956 - val_loss: 0.0076 - val_accuracy: 0.9981\n",
            "Epoch 23/50\n",
            "788/788 [==============================] - 39s 49ms/step - loss: 0.0135 - accuracy: 0.9957 - val_loss: 0.0106 - val_accuracy: 0.9964\n",
            "Epoch 24/50\n",
            "788/788 [==============================] - 39s 49ms/step - loss: 0.0134 - accuracy: 0.9955 - val_loss: 0.0090 - val_accuracy: 0.9976\n",
            "Epoch 25/50\n",
            "788/788 [==============================] - 38s 49ms/step - loss: 0.0125 - accuracy: 0.9959 - val_loss: 0.0100 - val_accuracy: 0.9971\n",
            "Epoch 26/50\n",
            "788/788 [==============================] - 38s 48ms/step - loss: 0.0130 - accuracy: 0.9960 - val_loss: 0.0094 - val_accuracy: 0.9971\n",
            "Epoch 27/50\n",
            "788/788 [==============================] - 38s 49ms/step - loss: 0.0122 - accuracy: 0.9963 - val_loss: 0.0083 - val_accuracy: 0.9971\n",
            "Epoch 28/50\n",
            "788/788 [==============================] - 40s 50ms/step - loss: 0.0118 - accuracy: 0.9964 - val_loss: 0.0127 - val_accuracy: 0.9956\n",
            "Epoch 29/50\n",
            "788/788 [==============================] - 38s 49ms/step - loss: 0.0117 - accuracy: 0.9963 - val_loss: 0.0064 - val_accuracy: 0.9979\n",
            "Epoch 30/50\n",
            "788/788 [==============================] - 38s 48ms/step - loss: 0.0111 - accuracy: 0.9963 - val_loss: 0.0085 - val_accuracy: 0.9977\n",
            "Epoch 31/50\n",
            "788/788 [==============================] - 37s 48ms/step - loss: 0.0110 - accuracy: 0.9965 - val_loss: 0.0079 - val_accuracy: 0.9979\n",
            "Epoch 32/50\n",
            "788/788 [==============================] - 36s 46ms/step - loss: 0.0102 - accuracy: 0.9966 - val_loss: 0.0068 - val_accuracy: 0.9980\n",
            "Epoch 33/50\n",
            "788/788 [==============================] - 36s 46ms/step - loss: 0.0097 - accuracy: 0.9967 - val_loss: 0.0099 - val_accuracy: 0.9971\n",
            "Epoch 34/50\n",
            "788/788 [==============================] - 39s 49ms/step - loss: 0.0104 - accuracy: 0.9968 - val_loss: 0.0083 - val_accuracy: 0.9976\n",
            "Epoch 35/50\n",
            "788/788 [==============================] - 38s 48ms/step - loss: 0.0101 - accuracy: 0.9966 - val_loss: 0.0077 - val_accuracy: 0.9979\n",
            "Epoch 36/50\n",
            "788/788 [==============================] - 39s 49ms/step - loss: 0.0102 - accuracy: 0.9968 - val_loss: 0.0064 - val_accuracy: 0.9981\n",
            "Epoch 37/50\n",
            "788/788 [==============================] - 38s 48ms/step - loss: 0.0095 - accuracy: 0.9969 - val_loss: 0.0091 - val_accuracy: 0.9971\n",
            "Epoch 38/50\n",
            "788/788 [==============================] - 38s 48ms/step - loss: 0.0093 - accuracy: 0.9970 - val_loss: 0.0078 - val_accuracy: 0.9980\n",
            "Epoch 39/50\n",
            "788/788 [==============================] - 38s 48ms/step - loss: 0.0092 - accuracy: 0.9970 - val_loss: 0.0084 - val_accuracy: 0.9974\n",
            "Epoch 40/50\n",
            "788/788 [==============================] - 38s 48ms/step - loss: 0.0088 - accuracy: 0.9973 - val_loss: 0.0080 - val_accuracy: 0.9975\n",
            "Epoch 41/50\n",
            "788/788 [==============================] - 38s 48ms/step - loss: 0.0089 - accuracy: 0.9971 - val_loss: 0.0058 - val_accuracy: 0.9985\n",
            "Epoch 42/50\n",
            "788/788 [==============================] - 38s 48ms/step - loss: 0.0075 - accuracy: 0.9976 - val_loss: 0.0067 - val_accuracy: 0.9979\n",
            "Epoch 43/50\n",
            "788/788 [==============================] - 38s 49ms/step - loss: 0.0083 - accuracy: 0.9974 - val_loss: 0.0074 - val_accuracy: 0.9979\n",
            "Epoch 44/50\n",
            "788/788 [==============================] - 38s 48ms/step - loss: 0.0083 - accuracy: 0.9974 - val_loss: 0.0100 - val_accuracy: 0.9969\n",
            "Epoch 45/50\n",
            "788/788 [==============================] - 37s 47ms/step - loss: 0.0077 - accuracy: 0.9974 - val_loss: 0.0071 - val_accuracy: 0.9978\n",
            "Epoch 46/50\n",
            "788/788 [==============================] - 39s 49ms/step - loss: 0.0074 - accuracy: 0.9976 - val_loss: 0.0063 - val_accuracy: 0.9979\n",
            "Epoch 47/50\n",
            "788/788 [==============================] - 37s 48ms/step - loss: 0.0082 - accuracy: 0.9974 - val_loss: 0.0057 - val_accuracy: 0.9979\n",
            "Epoch 48/50\n",
            "788/788 [==============================] - 38s 48ms/step - loss: 0.0074 - accuracy: 0.9977 - val_loss: 0.0070 - val_accuracy: 0.9979\n",
            "Epoch 49/50\n",
            "788/788 [==============================] - 37s 47ms/step - loss: 0.0073 - accuracy: 0.9977 - val_loss: 0.0075 - val_accuracy: 0.9978\n",
            "Epoch 50/50\n",
            "675/788 [========================>.....] - ETA: 5s - loss: 0.0081 - accuracy: 0.9975"
          ]
        }
      ],
      "source": [
        "epochs = 50\n",
        "\n",
        "history = model.fit(train_gen, epochs=epochs, validation_data = (X_val, Y_val), verbose=1)"
      ]
    },
    {
      "cell_type": "code",
      "execution_count": null,
      "metadata": {
        "id": "xfZtQsm5n4RF"
      },
      "outputs": [],
      "source": [
        "# Evaluate the model\n",
        "fig, ax = plt.subplots(2,1)\n",
        "ax[0].plot(history.history['loss'], color='b', label=\"Training loss\")\n",
        "ax[0].plot(history.history['val_loss'], color='r', label=\"validation loss\",axes =ax[0])\n",
        "legend = ax[0].legend(loc='best', shadow=True)\n",
        "\n",
        "ax[1].plot(history.history['accuracy'], color='b', label=\"Training accuracy\")\n",
        "ax[1].plot(history.history['val_accuracy'], color='r',label=\"Validation accuracy\")\n",
        "legend = ax[1].legend(loc='best', shadow=True)"
      ]
    },
    {
      "cell_type": "markdown",
      "metadata": {
        "id": "Isskjcpqn4RF"
      },
      "source": [
        "Predict"
      ]
    },
    {
      "cell_type": "code",
      "execution_count": null,
      "metadata": {
        "id": "7xjQ-vtUn4RG"
      },
      "outputs": [],
      "source": [
        "result = np.zeros((X_test.shape[0], 10))\n",
        "\n",
        "result = model.predict(X_test)\n",
        "result = np.argmax(result, axis=1)\n",
        "result = pd.Series(result, name=\"Label\")\n",
        "submission = pd.concat([pd.Series(range(1, 28001), name=\"ImageId\"), result], axis=1)\n",
        "submission.to_csv(\"submission.csv\", index=False)"
      ]
    }
  ],
  "metadata": {
    "accelerator": "GPU",
    "colab": {
      "cell_execution_strategy": "setup",
      "gpuType": "T4",
      "provenance": [],
      "toc_visible": true
    },
    "kernelspec": {
      "display_name": "Python 3",
      "name": "python3"
    },
    "language_info": {
      "codemirror_mode": {
        "name": "ipython",
        "version": 3
      },
      "file_extension": ".py",
      "mimetype": "text/x-python",
      "name": "python",
      "nbconvert_exporter": "python",
      "pygments_lexer": "ipython3",
      "version": "3.10.11"
    },
    "orig_nbformat": 4
  },
  "nbformat": 4,
  "nbformat_minor": 0
}
